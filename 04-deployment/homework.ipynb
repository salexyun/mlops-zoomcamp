{
 "cells": [
  {
   "cell_type": "markdown",
   "id": "92b15945-524a-43dc-be47-0ef2d50ede54",
   "metadata": {},
   "source": [
    "# Homework 4"
   ]
  },
  {
   "cell_type": "code",
   "execution_count": null,
   "id": "e43505ea-1d4d-49e3-82b1-9d5febd8a5d0",
   "metadata": {},
   "outputs": [],
   "source": [
    "import numpy as np\n",
    "import pandas as pd\n",
    "import pickle\n",
    "\n",
    "from sklearn.feature_extraction import DictVectorizer\n",
    "from sklearn.linear_model import LinearRegression\n",
    "from sklearn.metrics import mean_squared_error"
   ]
  },
  {
   "cell_type": "code",
   "execution_count": null,
   "id": "383d1dd1-00f1-4bf5-a267-9afb7c6ca5db",
   "metadata": {},
   "outputs": [],
   "source": [
    "categorical = ['PULocationID', 'DOLocationID']\n",
    "\n",
    "def read_data(filename):\n",
    "    df = pd.read_parquet(filename)\n",
    "    \n",
    "    df['duration'] = df.tpep_dropoff_datetime - df.tpep_pickup_datetime\n",
    "    df['duration'] = df.duration.dt.total_seconds() / 60\n",
    "\n",
    "    df = df[(df.duration >= 1) & (df.duration <= 60)].copy()\n",
    "\n",
    "    df[categorical] = df[categorical].fillna(-1).astype('int').astype('str')\n",
    "    \n",
    "    return df"
   ]
  },
  {
   "cell_type": "code",
   "execution_count": null,
   "id": "5f459c84-5026-48a3-9eeb-1caedc025cf3",
   "metadata": {},
   "outputs": [],
   "source": [
    "df_train = read_data('https://d37ci6vzurychx.cloudfront.net/trip-data/yellow_tripdata_2024-01.parquet')\n",
    "df_val = read_data('https://d37ci6vzurychx.cloudfront.net/trip-data/yellow_tripdata_2023-02.parquet')\n",
    "\n",
    "dv = DictVectorizer()\n",
    "\n",
    "train_dicts = df_train[categorical].to_dict(orient='records')\n",
    "X_train = dv.fit_transform(train_dicts)\n",
    "\n",
    "val_dicts = df_val[categorical].to_dict(orient='records')\n",
    "X_val = dv.transform(val_dicts)\n",
    "\n",
    "target = 'duration'\n",
    "y_train = df_train[target].values\n",
    "y_val = df_val[target].values\n",
    "\n",
    "lr = LinearRegression()\n",
    "lr.fit(X_train, y_train)\n",
    "\n",
    "y_pred = lr.predict(X_val)\n",
    "mean_squared_error(y_val, y_pred, squared=False)\n",
    "\n",
    "with open('model.bin', 'wb') as f_out:\n",
    "    pickle.dump((dv, lr), f_out)"
   ]
  },
  {
   "cell_type": "markdown",
   "id": "504cb89a-76e8-4311-b00e-1c774bfbf15f",
   "metadata": {},
   "source": [
    "## Q1. Notebook\n",
    "\n",
    "We'll start with the same notebook we ended up with in homework 1. We cleaned it a little bit and kept only the scoring part. You can find the initial notebook here. Run this notebook for the March 2023 data.\n",
    "\n",
    "What's the standard deviation of the predicted duration for this dataset?\n",
    "* **6.24**"
   ]
  },
  {
   "cell_type": "code",
   "execution_count": null,
   "id": "bc2e6128-c70d-476c-a115-7f94f8f3cbb7",
   "metadata": {},
   "outputs": [],
   "source": [
    "year = 2023\n",
    "month = 3\n",
    "taxi_type = \"yellow\"\n",
    "\n",
    "input_file = f\"https://d37ci6vzurychx.cloudfront.net/trip-data/yellow_tripdata_{year:04d}-{month:02d}.parquet\"\n",
    "output_file = f\"{taxi_type}_{year:04d}-{month:02d}.parquet\""
   ]
  },
  {
   "cell_type": "code",
   "execution_count": null,
   "id": "c40c688c-c4a5-4adc-9e3d-6bc66155eeb5",
   "metadata": {},
   "outputs": [],
   "source": [
    "with open('model.bin', 'rb') as f_in:\n",
    "    dv, model = pickle.load(f_in)"
   ]
  },
  {
   "cell_type": "code",
   "execution_count": null,
   "id": "b474886a-d093-4412-aeeb-47301b5ce8d1",
   "metadata": {},
   "outputs": [],
   "source": [
    "def apply_model(input_file):\n",
    "    df = read_data(input_file)\n",
    "    dicts = df[categorical].to_dict(orient='records')\n",
    "    X_val = dv.transform(dicts)\n",
    "    y_pred = model.predict(X_val)\n",
    "    print(np.std(y_pred))\n",
    "\n",
    "    return df, y_pred"
   ]
  },
  {
   "cell_type": "code",
   "execution_count": null,
   "id": "bb791de4-e60f-47ec-8de9-3656f525a01a",
   "metadata": {},
   "outputs": [],
   "source": [
    "df, y_pred = apply_model(input_file)"
   ]
  },
  {
   "cell_type": "markdown",
   "id": "05e38536-e573-40dd-9bfd-9bcefe6c4ad8",
   "metadata": {},
   "source": [
    "## Q2. Preparing the output\n",
    "\n",
    "Like in the course videos, we want to prepare the dataframe with the output.\n",
    "\n",
    "First, let's create an artificial ride_id column.\n",
    "\n",
    "Next, write the ride id and the predictions to a dataframe with results. Save it as parque.\n",
    "    \n",
    "What's the size of the output file?\n",
    "* **66M**"
   ]
  },
  {
   "cell_type": "code",
   "execution_count": null,
   "id": "fa7ad6c3-9453-4f9c-91fb-e8e529aba829",
   "metadata": {},
   "outputs": [],
   "source": [
    "df.head()"
   ]
  },
  {
   "cell_type": "code",
   "execution_count": null,
   "id": "65f35516-bf98-4efe-9c3b-720636580c0d",
   "metadata": {},
   "outputs": [],
   "source": [
    "def save_results(df, y_pred, year, month):\n",
    "    df['ride_id'] = f'{year:04d}/{month:02d}_' + df.index.astype('str')\n",
    "    df_result = pd.DataFrame()\n",
    "    df_result['ride_id'] = df['ride_id']\n",
    "    df_result['predicted'] = y_pred\n",
    "\n",
    "    df_result.to_parquet(\n",
    "        output_file,\n",
    "        engine='pyarrow',\n",
    "        compression=None,\n",
    "        index=False\n",
    "    )"
   ]
  },
  {
   "cell_type": "code",
   "execution_count": null,
   "id": "f309282b-9391-4a9c-a037-5e1bf50e9b0f",
   "metadata": {},
   "outputs": [],
   "source": [
    "save_results(df, y_pred, year, month)"
   ]
  },
  {
   "cell_type": "markdown",
   "id": "d7478fb2-07bf-473a-adca-faf271008a01",
   "metadata": {},
   "source": [
    "## Q3. Creating the scoring script\n",
    "\n",
    "Now let's turn the notebook into a script.\n",
    "\n",
    "Which command you need to execute for that?\n",
    "\n",
    "`jupyter nbconvert --to script homework.ipynb --output score`"
   ]
  },
  {
   "cell_type": "code",
   "execution_count": null,
   "id": "f0b39dbd-60f9-43b5-b8c6-fcc466ab59dd",
   "metadata": {},
   "outputs": [],
   "source": [
    "!jupyter nbconvert --to script homework.ipynb --output score"
   ]
  },
  {
   "cell_type": "markdown",
   "id": "f1b2b961-46f5-44a3-8f4a-c827220be0b5",
   "metadata": {},
   "source": [
    "## Q4. Virtual environment\n",
    "\n",
    "Now let's put everything into a virtual environment. We'll use pipenv for that.\n",
    "\n",
    "Install all the required libraries. Pay attention to the Scikit-Learn version: it should be the same as in the starter notebook.\n",
    "\n",
    "After installing the libraries, pipenv creates two files: Pipfile and Pipfile.lock. The Pipfile.lock file keeps the hashes of the dependencies we use for the virtual env.\n",
    "\n",
    "What's the first hash for the Scikit-Learn dependency?\n",
    "\n",
    "`\"sha256\": \"8f34726ce5eb22cfa6dce50b2608b1ce222e1bddc222513191a091e019f7517f\"`"
   ]
  },
  {
   "cell_type": "markdown",
   "id": "432e784c-3402-4fb3-b9b6-208e8c785e73",
   "metadata": {},
   "source": [
    "## Q5. Parametrize the script\n",
    "\n",
    "Let's now make the script configurable via CLI. We'll create two parameters: year and month. Run the script for April 2023.\n",
    "\n",
    "What's the mean predicted duration?\n",
    "* **14.29**"
   ]
  },
  {
   "cell_type": "markdown",
   "id": "89eaecbb-d1b4-4570-ade7-f02726d7c2db",
   "metadata": {},
   "source": [
    "## Q6. Docker container\n",
    "\n",
    "Finally, we'll package the script in the docker container. For that, you'll need to use a base image that we prepared.\n",
    "\n",
    "This image already has a pickle file with a dictionary vectorizer and a model. You will need to use them.\n",
    "\n",
    "Important: don't copy the model to the docker image. You will need to use the pickle file already in the image.\n",
    "\n",
    "Now run the script with docker. What's the mean predicted duration for May 2023?\n",
    "* 0.19\n",
    "* 7.24\n",
    "* 14.24\n",
    "* 21.19"
   ]
  }
 ],
 "metadata": {
  "kernelspec": {
   "display_name": "Python 3 (ipykernel)",
   "language": "python",
   "name": "python3"
  },
  "language_info": {
   "codemirror_mode": {
    "name": "ipython",
    "version": 3
   },
   "file_extension": ".py",
   "mimetype": "text/x-python",
   "name": "python",
   "nbconvert_exporter": "python",
   "pygments_lexer": "ipython3",
   "version": "3.12.3"
  }
 },
 "nbformat": 4,
 "nbformat_minor": 5
}
