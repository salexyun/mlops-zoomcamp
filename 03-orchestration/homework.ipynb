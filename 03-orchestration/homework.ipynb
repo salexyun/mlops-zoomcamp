{
 "cells": [
  {
   "cell_type": "markdown",
   "metadata": {},
   "source": [
    "# Homework 3"
   ]
  },
  {
   "cell_type": "markdown",
   "metadata": {},
   "source": [
    "## Question 1. Run Mage\n",
    "\n",
    "First, let's run Mage with Docker Compose. Follow the quick start guideline.\n",
    "\n",
    "What's the version of Mage we run?\n",
    "* **v0.9.71**"
   ]
  },
  {
   "cell_type": "markdown",
   "metadata": {},
   "source": [
    "## Question 2. Creating a project\n",
    "\n",
    "Now let's create a new project. We can call it \"homework_03\", for example.\n",
    "\n",
    "How many lines are in the created `metadata.yaml` file?\n",
    "* **55**"
   ]
  },
  {
   "cell_type": "markdown",
   "metadata": {},
   "source": [
    "## Question 3. Creating a pipline\n",
    "\n",
    "Let's create an ingestion code block. In this block, we will read the March 2023 Yellow taxi trips data.\n",
    "\n",
    "How many records did we load?\n",
    "* **3,403,766**"
   ]
  },
  {
   "cell_type": "markdown",
   "metadata": {},
   "source": [
    "## Question 4. Data preparation\n",
    "\n",
    "Let's use the same logic for preparing the data we used previously. We will need to create a transformer code block and put this code there.\n",
    "\n",
    "What's the size of the result?\n",
    "* **3,316,216**"
   ]
  },
  {
   "cell_type": "markdown",
   "metadata": {},
   "source": [
    "## Question 5. Train a model\n",
    "\n",
    "We will now train a linear regression model using the same code as in homework 1.\n",
    "\n",
    "Fit a dict vectorizer:\n",
    "* Train a linear regression with default parameres\n",
    "* Use pick up and drop off locations separately, don't create a combination feature\n",
    "Let's now use it in the pipeline. We will need to create another transformation block, and return both the dict vectorizer and the model\n",
    "\n",
    "What's the intercept of the model?\n",
    "* **24.77**"
   ]
  },
  {
   "cell_type": "markdown",
   "metadata": {},
   "source": [
    "## Question 6. Register the model\n",
    "\n",
    "The model is trained, so let's save it with MLFlow.\n",
    "\n",
    "Next, start the compose again and create a data exporter block.\n",
    "\n",
    "In the block, we:\n",
    "* Log the model (linear regression)\n",
    "Save and log the artifact (dict vectorizer)\n",
    "If you used the suggested docker-compose snippet, mlflow should be accessible at http://mlflow:5000.\n",
    "\n",
    "Find the logged model, and find MLModel file. What's the size of the model? (model_size_bytes field)?\n",
    "* 14,534\n",
    "* 9,534\n",
    "* 4,534\n",
    "* 1,534"
   ]
  }
 ],
 "metadata": {
  "language_info": {
   "name": "python"
  }
 },
 "nbformat": 4,
 "nbformat_minor": 2
}
