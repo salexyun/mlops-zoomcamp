{
 "cells": [
  {
   "cell_type": "markdown",
   "id": "6ce23283",
   "metadata": {},
   "source": [
    "# Homework 2"
   ]
  },
  {
   "cell_type": "code",
   "execution_count": 1,
   "id": "5d79d8f7-2d0e-44a2-872c-70cdcd43ce40",
   "metadata": {},
   "outputs": [],
   "source": [
    "import mlflow"
   ]
  },
  {
   "cell_type": "markdown",
   "id": "f72fe1f4-f60e-42af-94b5-9cb390a68bba",
   "metadata": {},
   "source": [
    "## Q1. Install MLFlow\n",
    "\n",
    "To get started with MLflow you'll need to install the MLflow Python package. For this we recommend creating a separate Python environment, for example, you can use conda environments, and then install the package there with pip or conda. Once you installed the package, run the command mlflow --version and check the output.\n",
    "\n",
    "What's the version that you have?\n",
    "* 2.13.0"
   ]
  },
  {
   "cell_type": "code",
   "execution_count": 3,
   "id": "c8d95e7b-89e9-461f-8630-5b06d833caad",
   "metadata": {},
   "outputs": [
    {
     "name": "stdout",
     "output_type": "stream",
     "text": [
      "mlflow, version 2.13.0\n"
     ]
    }
   ],
   "source": [
    "!mlflow --version"
   ]
  },
  {
   "cell_type": "markdown",
   "id": "43d9de87-903d-4b8f-85b6-b9431d99077b",
   "metadata": {},
   "source": [
    "## Q2. Download and preprocess the data\n",
    "\n",
    "We'll use the Green Taxi Trip Records dataset to predict the duration of each trip. Download the data for January, February and March 2023 in parquet format from here. Use the script `preprocess_data.py` located in the folder homework to preprocess the data.\n",
    "\n",
    "How many files were saved to `OUTPUT_FOLDER`?\n",
    "* **4**"
   ]
  },
  {
   "cell_type": "code",
   "execution_count": 8,
   "id": "21ff5e7d-6f89-4ee1-a741-447ad1ac70fd",
   "metadata": {},
   "outputs": [],
   "source": [
    "!python preprocess_data.py --raw_data_path ./data --dest_path ./output"
   ]
  },
  {
   "cell_type": "markdown",
   "id": "67dbedf9-ad75-4c2e-9f76-ef5950410bcf",
   "metadata": {},
   "source": [
    "## Q3. Train a model with autolog\n",
    "\n",
    "We will train a `RandomForestRegressor` (from Scikit-Learn) on the taxi dataset. We have prepared the training script `train.py `for this exercise, which can be also found in the folder `homework`.\n",
    "\n",
    "What is the value of the `min_samples_split parameter`:\n",
    "* **2**"
   ]
  },
  {
   "cell_type": "markdown",
   "id": "78a74507-0f8e-4d06-8558-e9154d673efa",
   "metadata": {},
   "source": [
    "![q3](img/q3.png)"
   ]
  },
  {
   "cell_type": "markdown",
   "id": "dc0a0df5-ced0-48f1-a8e9-a6ac9232244b",
   "metadata": {},
   "source": [
    "## Q4. Launch the tracking server locally\n",
    "\n",
    "Now we want to manage the entire lifecycle of our ML model. In this step, you'll need to launch a tracking server. This way we will also have access to the model registry. Your task is to:\n",
    "* launch the tracking server on your local machine,\n",
    "* select a SQLite db for the backend store and a folder called `artifacts` for the artifacts store.\n",
    "You should keep the tracking server running to work on the next two exercises that use the server.\n",
    "\n",
    "In addition to `backend-store-uri`, what else do you need to pass to properly configure the server?\n",
    "* **default-artifact-root**"
   ]
  },
  {
   "cell_type": "code",
   "execution_count": null,
   "id": "e29d3a55-4e33-40b3-98bc-f5d4b222b443",
   "metadata": {},
   "outputs": [],
   "source": [
    "!mlflow ui --backend-store-uri sqlite:///mlflow.db --default-artifact-root artifacts"
   ]
  },
  {
   "cell_type": "markdown",
   "id": "507ebbde-fd8d-45d1-b66a-17a52a678e04",
   "metadata": {},
   "source": [
    "## Q5. Tune model hyperparameters\n",
    "\n",
    "Now let's try to reduce the validation error by tuning the hyperparameters of the `RandomForestRegressor` using `hyperopt`. We have prepared the script `hpo.py` for this exercise.\n",
    "\n",
    "Your task is to modify the script `hpo.py` and make sure that the validation RMSE is logged to the tracking server for each run of the hyperparameter optimization (you will need to add a few lines of code to the `objective` function) and run the script without passing any parameters.\n",
    "\n",
    "After that, open UI and explore the runs from the experiment called `random-forest-hyperopt` to answer the question below.\n",
    "\n",
    "The idea is to just log the information that you need to answer the question below, including:\n",
    "* the list of hyperparameters that are passed to the `objective` function during the optimization,\n",
    "* the RMSE obtained on the validation set (February 2023 data).\n",
    "\n",
    "What's the best validation RMSE that you got?\n",
    "* **5.335**"
   ]
  },
  {
   "cell_type": "code",
   "execution_count": 5,
   "id": "fde59f9b-7a99-4844-a609-dff809e8175b",
   "metadata": {},
   "outputs": [
    {
     "name": "stdout",
     "output_type": "stream",
     "text": [
      "2024/05/27 03:13:57 INFO mlflow.tracking.fluent: Experiment with name 'random-forest-hyperopt' does not exist. Creating a new experiment.\n",
      "100%|██████████| 15/15 [01:07<00:00,  4.51s/trial, best loss: 5.335419588556921]\n"
     ]
    }
   ],
   "source": [
    "!python hpo.py"
   ]
  },
  {
   "cell_type": "markdown",
   "id": "c8e1c751-5074-4f7d-842f-f8f269c60e15",
   "metadata": {},
   "source": [
    "![q5](img/q5.png)"
   ]
  },
  {
   "cell_type": "markdown",
   "id": "5153957a-e700-4d38-979c-2f1da4c1a25a",
   "metadata": {},
   "source": [
    "## Q6. Promote the best model to the model registry\n",
    "\n",
    "The results from the hyperparameter optimization are quite good. So, we can assume that we are ready to test some of these models in production. In this exercise, you'll promote the best model to the model registry. We have prepared a script called `register_model.py`, which will check the results from the previous step and select the top 5 runs. After that, it will calculate the RMSE of those models on the test set (March 2023 data) and save the results to a new experiment called `random-forest-best-models`.\n",
    "\n",
    "Your task is to update the script `register_model.py` so that it selects the model with the lowest RMSE on the test set and registers it to the model registry.\n",
    "\n",
    "What is the test RMSE of the best model?\n",
    "* **5.567**"
   ]
  },
  {
   "cell_type": "code",
   "execution_count": 2,
   "id": "934d5e6a-afc7-4490-9475-a64e1cde3375",
   "metadata": {},
   "outputs": [
    {
     "name": "stdout",
     "output_type": "stream",
     "text": [
      "2024/05/27 14:26:48 WARNING mlflow.utils.autologging_utils: You are using an unsupported version of sklearn. If you encounter errors during autologging, try upgrading / downgrading sklearn to a supported version, or try upgrading MLflow.\n",
      "2024/05/27 14:26:48 WARNING mlflow.sklearn: Failed to log training dataset information to MLflow Tracking. Reason: 'numpy.ndarray' object has no attribute 'toarray'\n",
      "2024/05/27 14:26:57 WARNING mlflow.sklearn: Failed to log training dataset information to MLflow Tracking. Reason: 'numpy.ndarray' object has no attribute 'toarray'\n",
      "2024/05/27 14:27:12 WARNING mlflow.sklearn: Failed to log training dataset information to MLflow Tracking. Reason: 'numpy.ndarray' object has no attribute 'toarray'\n",
      "2024/05/27 14:27:21 WARNING mlflow.sklearn: Failed to log training dataset information to MLflow Tracking. Reason: 'numpy.ndarray' object has no attribute 'toarray'\n",
      "2024/05/27 14:27:30 WARNING mlflow.sklearn: Failed to log training dataset information to MLflow Tracking. Reason: 'numpy.ndarray' object has no attribute 'toarray'\n",
      "Run id: efe08215de554ec89d617d64721331a5, test_rmse: 5.5674\n",
      "Successfully registered model 'random-forest-best-model'.\n",
      "2024/05/27 14:27:38 INFO mlflow.store.model_registry.abstract_store: Waiting up to 300 seconds for model version to finish creation. Model name: random-forest-best-model, version 1\n",
      "Created version '1' of model 'random-forest-best-model'.\n"
     ]
    }
   ],
   "source": [
    "!python register_model.py"
   ]
  },
  {
   "cell_type": "markdown",
   "id": "f46c1ad2-37bf-43e5-91b0-4e7e251fce08",
   "metadata": {},
   "source": [
    "![q6](img/q6.png)"
   ]
  }
 ],
 "metadata": {
  "kernelspec": {
   "display_name": "Python 3 (ipykernel)",
   "language": "python",
   "name": "python3"
  },
  "language_info": {
   "codemirror_mode": {
    "name": "ipython",
    "version": 3
   },
   "file_extension": ".py",
   "mimetype": "text/x-python",
   "name": "python",
   "nbconvert_exporter": "python",
   "pygments_lexer": "ipython3",
   "version": "3.12.2"
  }
 },
 "nbformat": 4,
 "nbformat_minor": 5
}
