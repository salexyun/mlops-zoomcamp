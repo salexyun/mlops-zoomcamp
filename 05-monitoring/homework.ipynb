{
 "cells": [
  {
   "cell_type": "markdown",
   "id": "4a9a55ae-58d6-45d1-9470-216d39fe9606",
   "metadata": {},
   "source": [
    "# Homework"
   ]
  },
  {
   "cell_type": "markdown",
   "id": "afc7d7fc-d64f-4196-9581-2a6904a6a765",
   "metadata": {},
   "source": [
    "## Q1. Prepare the dataset\n",
    "\n",
    "Start with `baseline_model_nyc_taxi_data.ipynb`. Download the March 2024 Green Taxi data. We will use this data to simulate a production usage of a taxi trip duration prediction service.\n",
    "\n",
    "What is the shape of the downloaded data? How many rows are there?\n",
    "* **57457**"
   ]
  },
  {
   "cell_type": "markdown",
   "id": "94a66013-0ca3-461d-aa38-c0e48ba6702b",
   "metadata": {},
   "source": [
    "## Q2. Metric\n",
    "\n",
    "Let's expand the number of data quality metrics we’d like to monitor! Please add one metric of your choice and a quantile value for the `\"fare_amount\"` column (`quantile=0.5`).\n",
    "\n",
    "What metric did you choose?\n",
    "* **DatasetCorrelationsMetric**"
   ]
  },
  {
   "cell_type": "markdown",
   "id": "8090bffd-f096-4d18-b943-e9774c278e0d",
   "metadata": {},
   "source": [
    "## Q3. Monitoring\n",
    "\n",
    "Let’s start monitoring. Run expanded monitoring for a new batch of data (March 2024).\n",
    "\n",
    "What is the maximum value of metric `quantile=0.5` on the `\"fare_amount\"` column during March 2024 (calculated daily)?\n",
    "* **14.2**"
   ]
  },
  {
   "cell_type": "code",
   "execution_count": null,
   "id": "7b0c137d-f730-457d-bc70-4d22fdd05124",
   "metadata": {
    "collapsed": true,
    "jupyter": {
     "outputs_hidden": true
    }
   },
   "outputs": [],
   "source": [
    "max_fare = float('-inf')\n",
    "\n",
    "for i in range(1, 31):\n",
    "    regular_report = Report(\n",
    "        metrics=[\n",
    "            ColumnQuantileMetric(column_name='fare_amount', quantile=0.5)\n",
    "        ],\n",
    "        timestamp=datetime.datetime(2024, 3, i)\n",
    "    )\n",
    "\n",
    "    regular_report.run(reference_data=None,\n",
    "                       current_data=march_data.loc[march_data.lpep_pickup_datetime.between(f'2024-03-{i:02}', f'2024-03-{i+1:02}', inclusive=\"both\")],\n",
    "                       column_mapping=column_mapping)\n",
    "    \n",
    "    result = regular_report.as_dict()\n",
    "    max_fare = max(max_fare, result['metrics'][0]['result']['current']['value'])\n",
    "\n",
    "print(max_fare)"
   ]
  },
  {
   "cell_type": "markdown",
   "id": "dde7c905-aecf-431b-bc0d-f51cf6c1be0c",
   "metadata": {},
   "source": [
    "## Q4. Dashboard\n",
    "\n",
    "Finally, let’s add panels with new added metrics to the dashboard. After we customize the dashboard let's save a dashboard config, so that we can access it later. Hint: click on “Save dashboard” to access JSON configuration of the dashboard. This configuration should be saved locally.\n",
    "\n",
    "Where to place a dashboard config file?\n",
    "* `project_folder/dashboards` **(05-monitoring/dashboards)**"
   ]
  }
 ],
 "metadata": {
  "kernelspec": {
   "display_name": "Python 3 (ipykernel)",
   "language": "python",
   "name": "python3"
  },
  "language_info": {
   "codemirror_mode": {
    "name": "ipython",
    "version": 3
   },
   "file_extension": ".py",
   "mimetype": "text/x-python",
   "name": "python",
   "nbconvert_exporter": "python",
   "pygments_lexer": "ipython3",
   "version": "3.12.2"
  }
 },
 "nbformat": 4,
 "nbformat_minor": 5
}
